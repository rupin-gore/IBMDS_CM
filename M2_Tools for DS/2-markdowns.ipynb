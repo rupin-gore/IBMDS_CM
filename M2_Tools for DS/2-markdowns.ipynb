{
 "cells": [
  {
   "cell_type": "markdown",
   "metadata": {},
   "source": [
    "### Create headings, and add text in bold and italics in Markdown\n",
    "\n",
    "Let us explore basic markdown elements such as: \n",
    "* Headings\n",
    "* Bold Text\n",
    "* ItalicText"
   ]
  },
  {
   "cell_type": "markdown",
   "metadata": {},
   "source": [
    "# Execute it as a markdown cell\n",
    "# H1: This is a level 1 Heading\n",
    "## H2: This is a level 2 Heading\n",
    "### H3: This is a level 3 Heading\n",
    "#### H4: This is a level 4 Heading\n",
    "##### H5: This is a level 5 Heading\n",
    "###### H6: This is a level 6 Heading"
   ]
  },
  {
   "cell_type": "markdown",
   "metadata": {},
   "source": [
    "# Execute it as a markdown cell\n",
    "*Text in italics using asterisk.*  \n",
    "_Text in italics using underscore._\n"
   ]
  },
  {
   "cell_type": "markdown",
   "metadata": {},
   "source": [
    "### Images\n",
    "\n",
    "Images can be rendered in the following format.\n",
    "     \n",
    "<img src=\"https://cf-courses-data.s3.us.cloud-object-storage.appdomain.cloud/IBMDeveloperSkillsNetwork-DS0105EN-SkillsNetwork/labs/Labs_V4/images/image.png\">\n",
    "\n",
    "Convert the cell below to markdown cell and execute it.\n"
   ]
  },
  {
   "cell_type": "markdown",
   "metadata": {},
   "source": [
    "# Execute it as a markdown cell\n",
    "LOGO: ![This is the skills network logo](https://cf-courses-data.s3.us.cloud-object-storage.appdomain.cloud/assets/logos/SN_web_lightmode.png)"
   ]
  },
  {
   "cell_type": "markdown",
   "metadata": {},
   "source": [
    "| Country Name | Capital |\n",
    "| -------------| ------ |\n",
    "| United States | Washington DC |\n",
    "| Australia | Canberra |\n",
    "| India | New Delhi |"
   ]
  },
  {
   "cell_type": "markdown",
   "metadata": {},
   "source": [
    "- First item using dashes\n",
    "- Second item using dashes\n",
    "- Third item using dashes\n",
    "- Fourth item using dashes\n",
    "\n",
    "* First item using asterisks\n",
    "* Second item using asterisks\n",
    "* Third item using asterisks\n",
    "* Fourth item using asterisks\n",
    "\n",
    "+ First item using plus\n",
    "+ Second item using plus\n",
    "+ Third item using plus\n",
    "+ Fourth item using plus"
   ]
  },
  {
   "cell_type": "markdown",
   "metadata": {},
   "source": [
    "1. First item\n",
    "2. Second item\n",
    "3. Third item\n",
    "4. Fourth item\n"
   ]
  },
  {
   "cell_type": "markdown",
   "metadata": {},
   "source": []
  }
 ],
 "metadata": {
  "language_info": {
   "name": "python"
  }
 },
 "nbformat": 4,
 "nbformat_minor": 2
}
